{
  "nbformat": 4,
  "nbformat_minor": 0,
  "metadata": {
    "kernelspec": {
      "display_name": "Python",
      "language": "python",
      "name": "conda-env-python-py"
    },
    "language_info": {
      "codemirror_mode": {
        "name": "ipython",
        "version": 3
      },
      "file_extension": ".py",
      "mimetype": "text/x-python",
      "name": "python",
      "nbconvert_exporter": "python",
      "pygments_lexer": "ipython3",
      "version": "3.6.12"
    },
    "colab": {
      "name": "ADSC_week3.ipynb",
      "provenance": [],
      "include_colab_link": true
    }
  },
  "cells": [
    {
      "cell_type": "markdown",
      "metadata": {
        "id": "view-in-github",
        "colab_type": "text"
      },
      "source": [
        "<a href=\"https://colab.research.google.com/github/aziesel/Coursera_Capstone/blob/master/ADSC_week3.ipynb\" target=\"_parent\"><img src=\"https://colab.research.google.com/assets/colab-badge.svg\" alt=\"Open In Colab\"/></a>"
      ]
    },
    {
      "cell_type": "markdown",
      "metadata": {
        "id": "D3sSL-STaAOJ"
      },
      "source": [
        "Start by installing BeautifulSoup (bs4 package) and importing other required modules: requests for retrieving HTML data, and pandas for creating a data frame."
      ]
    },
    {
      "cell_type": "code",
      "metadata": {
        "id": "ttAtd7UyaAOK"
      },
      "source": [
        "#!conda install -c conda-forge bs4 --yes\n",
        "import requests\n",
        "from bs4 import BeautifulSoup\n",
        "import pandas as pd\n"
      ],
      "execution_count": 3,
      "outputs": []
    },
    {
      "cell_type": "markdown",
      "metadata": {
        "id": "IYtBHVjeaAOL"
      },
      "source": [
        "Firstly, we use request to retrieve the contents of the specified Wikipedia page. Then we create a BeautifulSoup object ('to_soup') to parse out the table containing information and specifically the row contents ('to_postal' and 'to_postal_table'). \n",
        "\n",
        "For each row in to_postal_table, we collect each of the entries on that row (marked with <td> </td> flags in the HTML), remove any newline characters, and append each row as one element into a temporary list.\n",
        "\n",
        "Next, we convert the temporary list to a DataFrame object, remove an errant empty row, and remove any postal codes for which the Borough or Neighbourhood is 'Not assigned'. Finally we reset the index of the DataFrame to adjust for removed rows."
      ]
    },
    {
      "cell_type": "code",
      "metadata": {
        "colab": {
          "base_uri": "https://localhost:8080/",
          "height": 419
        },
        "id": "_jeeOllOaAOL",
        "outputId": "72f196d5-2baf-460f-df95-2b09a6e683f1"
      },
      "source": [
        "to_data = requests.get(\"https://en.wikipedia.org/wiki/List_of_postal_codes_of_Canada:_M\").text\n",
        "to_soup = BeautifulSoup(to_data, \"html5lib\")\n",
        "to_postal = to_soup.find('table', {'class':'wikitable sortable'})\n",
        "to_postal_table = to_postal.find_all('tr')\n",
        "\n",
        "temp = []\n",
        "for row in to_postal_table:\n",
        "    entry = row.find_all('td')\n",
        "    row = [row.text.strip() for row in entry]\n",
        "    temp.append(row)\n",
        "\n",
        "to_df = pd.DataFrame(temp, columns=[\"PostalCode\", \"Borough\", \"Neighbourhood\"])\n",
        "to_df = to_df.iloc[1:]\n",
        "to_df = to_df[to_df.Borough != 'Not assigned']\n",
        "to_df = to_df[to_df.Neighbourhood != 'Not assigned']\n",
        "to_df.reset_index()"
      ],
      "execution_count": 14,
      "outputs": [
        {
          "output_type": "execute_result",
          "data": {
            "text/html": [
              "<div>\n",
              "<style scoped>\n",
              "    .dataframe tbody tr th:only-of-type {\n",
              "        vertical-align: middle;\n",
              "    }\n",
              "\n",
              "    .dataframe tbody tr th {\n",
              "        vertical-align: top;\n",
              "    }\n",
              "\n",
              "    .dataframe thead th {\n",
              "        text-align: right;\n",
              "    }\n",
              "</style>\n",
              "<table border=\"1\" class=\"dataframe\">\n",
              "  <thead>\n",
              "    <tr style=\"text-align: right;\">\n",
              "      <th></th>\n",
              "      <th>index</th>\n",
              "      <th>PostalCode</th>\n",
              "      <th>Borough</th>\n",
              "      <th>Neighbourhood</th>\n",
              "    </tr>\n",
              "  </thead>\n",
              "  <tbody>\n",
              "    <tr>\n",
              "      <th>0</th>\n",
              "      <td>3</td>\n",
              "      <td>M3A</td>\n",
              "      <td>North York</td>\n",
              "      <td>Parkwoods</td>\n",
              "    </tr>\n",
              "    <tr>\n",
              "      <th>1</th>\n",
              "      <td>4</td>\n",
              "      <td>M4A</td>\n",
              "      <td>North York</td>\n",
              "      <td>Victoria Village</td>\n",
              "    </tr>\n",
              "    <tr>\n",
              "      <th>2</th>\n",
              "      <td>5</td>\n",
              "      <td>M5A</td>\n",
              "      <td>Downtown Toronto</td>\n",
              "      <td>Regent Park, Harbourfront</td>\n",
              "    </tr>\n",
              "    <tr>\n",
              "      <th>3</th>\n",
              "      <td>6</td>\n",
              "      <td>M6A</td>\n",
              "      <td>North York</td>\n",
              "      <td>Lawrence Manor, Lawrence Heights</td>\n",
              "    </tr>\n",
              "    <tr>\n",
              "      <th>4</th>\n",
              "      <td>7</td>\n",
              "      <td>M7A</td>\n",
              "      <td>Downtown Toronto</td>\n",
              "      <td>Queen's Park, Ontario Provincial Government</td>\n",
              "    </tr>\n",
              "    <tr>\n",
              "      <th>...</th>\n",
              "      <td>...</td>\n",
              "      <td>...</td>\n",
              "      <td>...</td>\n",
              "      <td>...</td>\n",
              "    </tr>\n",
              "    <tr>\n",
              "      <th>98</th>\n",
              "      <td>161</td>\n",
              "      <td>M8X</td>\n",
              "      <td>Etobicoke</td>\n",
              "      <td>The Kingsway, Montgomery Road, Old Mill North</td>\n",
              "    </tr>\n",
              "    <tr>\n",
              "      <th>99</th>\n",
              "      <td>166</td>\n",
              "      <td>M4Y</td>\n",
              "      <td>Downtown Toronto</td>\n",
              "      <td>Church and Wellesley</td>\n",
              "    </tr>\n",
              "    <tr>\n",
              "      <th>100</th>\n",
              "      <td>169</td>\n",
              "      <td>M7Y</td>\n",
              "      <td>East Toronto</td>\n",
              "      <td>Business reply mail Processing Centre, South C...</td>\n",
              "    </tr>\n",
              "    <tr>\n",
              "      <th>101</th>\n",
              "      <td>170</td>\n",
              "      <td>M8Y</td>\n",
              "      <td>Etobicoke</td>\n",
              "      <td>Old Mill South, King's Mill Park, Sunnylea, Hu...</td>\n",
              "    </tr>\n",
              "    <tr>\n",
              "      <th>102</th>\n",
              "      <td>179</td>\n",
              "      <td>M8Z</td>\n",
              "      <td>Etobicoke</td>\n",
              "      <td>Mimico NW, The Queensway West, South of Bloor,...</td>\n",
              "    </tr>\n",
              "  </tbody>\n",
              "</table>\n",
              "<p>103 rows × 4 columns</p>\n",
              "</div>"
            ],
            "text/plain": [
              "     index  ...                                      Neighbourhood\n",
              "0        3  ...                                          Parkwoods\n",
              "1        4  ...                                   Victoria Village\n",
              "2        5  ...                          Regent Park, Harbourfront\n",
              "3        6  ...                   Lawrence Manor, Lawrence Heights\n",
              "4        7  ...        Queen's Park, Ontario Provincial Government\n",
              "..     ...  ...                                                ...\n",
              "98     161  ...      The Kingsway, Montgomery Road, Old Mill North\n",
              "99     166  ...                               Church and Wellesley\n",
              "100    169  ...  Business reply mail Processing Centre, South C...\n",
              "101    170  ...  Old Mill South, King's Mill Park, Sunnylea, Hu...\n",
              "102    179  ...  Mimico NW, The Queensway West, South of Bloor,...\n",
              "\n",
              "[103 rows x 4 columns]"
            ]
          },
          "metadata": {
            "tags": []
          },
          "execution_count": 14
        }
      ]
    },
    {
      "cell_type": "markdown",
      "metadata": {
        "id": "XZ0E852daAOM"
      },
      "source": [
        "Lastly, the shape of our DataFrame is:"
      ]
    },
    {
      "cell_type": "code",
      "metadata": {
        "id": "sQieJAJVaAOM",
        "outputId": "eb37a1ca-9d47-4581-d589-edd045bbdcbc"
      },
      "source": [
        "to_df.shape"
      ],
      "execution_count": null,
      "outputs": [
        {
          "output_type": "execute_result",
          "data": {
            "text/plain": [
              "(103, 3)"
            ]
          },
          "metadata": {
            "tags": []
          },
          "execution_count": 71
        }
      ]
    },
    {
      "cell_type": "code",
      "metadata": {
        "id": "Fqg0Src9aAOM"
      },
      "source": [
        ""
      ],
      "execution_count": null,
      "outputs": []
    }
  ]
}