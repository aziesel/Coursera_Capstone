{
  "nbformat": 4,
  "nbformat_minor": 0,
  "metadata": {
    "kernelspec": {
      "display_name": "Python",
      "language": "python",
      "name": "conda-env-python-py"
    },
    "language_info": {
      "codemirror_mode": {
        "name": "ipython",
        "version": 3
      },
      "file_extension": ".py",
      "mimetype": "text/x-python",
      "name": "python",
      "nbconvert_exporter": "python",
      "pygments_lexer": "ipython3",
      "version": "3.6.12"
    },
    "colab": {
      "name": "ADSC_week3.ipynb",
      "provenance": [],
      "include_colab_link": true
    }
  },
  "cells": [
    {
      "cell_type": "markdown",
      "metadata": {
        "id": "view-in-github",
        "colab_type": "text"
      },
      "source": [
        "<a href=\"https://colab.research.google.com/github/aziesel/Coursera_Capstone/blob/master/ADSC_week3.ipynb\" target=\"_parent\"><img src=\"https://colab.research.google.com/assets/colab-badge.svg\" alt=\"Open In Colab\"/></a>"
      ]
    },
    {
      "cell_type": "markdown",
      "metadata": {
        "id": "D3sSL-STaAOJ"
      },
      "source": [
        "Start by installing BeautifulSoup (bs4 package) and importing other required modules: requests for retrieving HTML data, and pandas for creating a data frame."
      ]
    },
    {
      "cell_type": "code",
      "metadata": {
        "id": "ttAtd7UyaAOK"
      },
      "source": [
        "#!conda install -c conda-forge bs4 --yes\n",
        "import requests\n",
        "from bs4 import BeautifulSoup\n",
        "import pandas as pd\n"
      ],
      "execution_count": 3,
      "outputs": []
    },
    {
      "cell_type": "markdown",
      "metadata": {
        "id": "IYtBHVjeaAOL"
      },
      "source": [
        "Firstly, we use request to retrieve the contents of the specified Wikipedia page. Then we create a BeautifulSoup object ('to_soup') to parse out the table containing information and specifically the row contents ('to_postal' and 'to_postal_table'). \n",
        "\n",
        "For each row in to_postal_table, we collect each of the entries on that row (marked with <td> </td> flags in the HTML), remove any newline characters, and append each row as one element into a temporary list.\n",
        "\n",
        "Next, we convert the temporary list to a DataFrame object, remove an errant empty row, and remove any postal codes for which the Borough or Neighbourhood is 'Not assigned'. Finally we reset the index of the DataFrame to adjust for removed rows."
      ]
    },
    {
      "cell_type": "code",
      "metadata": {
        "colab": {
          "base_uri": "https://localhost:8080/"
        },
        "id": "_jeeOllOaAOL",
        "outputId": "26653e45-a4da-4c2c-ad04-ad8c7d1417aa"
      },
      "source": [
        "to_data = requests.get(\"https://en.wikipedia.org/wiki/List_of_postal_codes_of_Canada:_M\").text\n",
        "to_soup = BeautifulSoup(to_data, \"html5lib\")\n",
        "to_postal = to_soup.find('table', {'class':'wikitable sortable'})\n",
        "to_postal_table = to_postal.find_all('tr')\n",
        "\n",
        "temp = []\n",
        "for row in to_postal_table:\n",
        "    entry = row.find_all('td')\n",
        "    row = [row.text.strip() for row in entry]\n",
        "    temp.append(row)\n",
        "\n",
        "to_df = pd.DataFrame(temp, columns=[\"PostalCode\", \"Borough\", \"Neighbourhood\"])\n",
        "to_df = to_df.iloc[1:]\n",
        "to_df = to_df[to_df.Borough != 'Not assigned']\n",
        "to_df = to_df[to_df.Neighbourhood != 'Not assigned']\n",
        "to_df.reset_index()\n",
        "print(to_df)"
      ],
      "execution_count": 21,
      "outputs": [
        {
          "output_type": "stream",
          "text": [
            "    PostalCode  ...                                      Neighbourhood\n",
            "3          M3A  ...                                          Parkwoods\n",
            "4          M4A  ...                                   Victoria Village\n",
            "5          M5A  ...                          Regent Park, Harbourfront\n",
            "6          M6A  ...                   Lawrence Manor, Lawrence Heights\n",
            "7          M7A  ...        Queen's Park, Ontario Provincial Government\n",
            "..         ...  ...                                                ...\n",
            "161        M8X  ...      The Kingsway, Montgomery Road, Old Mill North\n",
            "166        M4Y  ...                               Church and Wellesley\n",
            "169        M7Y  ...  Business reply mail Processing Centre, South C...\n",
            "170        M8Y  ...  Old Mill South, King's Mill Park, Sunnylea, Hu...\n",
            "179        M8Z  ...  Mimico NW, The Queensway West, South of Bloor,...\n",
            "\n",
            "[103 rows x 3 columns]\n"
          ],
          "name": "stdout"
        }
      ]
    },
    {
      "cell_type": "markdown",
      "metadata": {
        "id": "XZ0E852daAOM"
      },
      "source": [
        "Lastly, the shape of our DataFrame is:"
      ]
    },
    {
      "cell_type": "code",
      "metadata": {
        "id": "sQieJAJVaAOM",
        "outputId": "eb37a1ca-9d47-4581-d589-edd045bbdcbc"
      },
      "source": [
        "to_df.shape"
      ],
      "execution_count": null,
      "outputs": [
        {
          "output_type": "execute_result",
          "data": {
            "text/plain": [
              "(103, 3)"
            ]
          },
          "metadata": {
            "tags": []
          },
          "execution_count": 71
        }
      ]
    },
    {
      "cell_type": "code",
      "metadata": {
        "id": "Fqg0Src9aAOM"
      },
      "source": [
        ""
      ],
      "execution_count": null,
      "outputs": []
    }
  ]
}